{
 "cells": [
  {
   "cell_type": "markdown",
   "metadata": {},
   "source": [
    "Minimum Skew Problem: Find a position in a genome where the skew diagram attains a minimum.  \n",
    "    Input: A DNA string Genome.  \n",
    "    Output: All integer(s) i minimizing Skew i (Genome) among all values of i (from 0 to |Genome|).  "
   ]
  },
  {
   "cell_type": "code",
   "execution_count": 1,
   "metadata": {},
   "outputs": [
    {
     "name": "stdout",
     "output_type": "stream",
     "text": [
      "[11, 24]\n"
     ]
    }
   ],
   "source": [
    "def minskew(text):\n",
    "    matrix=[0]\n",
    "    for i in text:\n",
    "        if i=='A'or i=='T':\n",
    "            matrix.append(matrix[-1])\n",
    "        elif i=='C':\n",
    "            matrix.append(matrix[-1]-1)\n",
    "        elif i=='G':\n",
    "            matrix.append(matrix[-1]+1)\n",
    "    k=min(matrix)\n",
    "    minmatrix = [index for index, char in enumerate(matrix) if char == k]\n",
    "    return minmatrix\n",
    "\n",
    "text='TAAAGACTGCCGAGAGGCCAACACGAGTGCTAGAACGAGGGGCGTAAACGCGGGTCCGAT'\n",
    "print(minskew(text))"
   ]
  },
  {
   "cell_type": "markdown",
   "metadata": {},
   "source": [
    "Hamming Distance Problem: Compute the Hamming distance between two strings.  \n",
    "    Input: Two strings of equal length.  \n",
    "    Output: The Hamming distance between these strings.  "
   ]
  },
  {
   "cell_type": "code",
   "execution_count": 2,
   "metadata": {},
   "outputs": [
    {
     "name": "stdout",
     "output_type": "stream",
     "text": [
      "3\n"
     ]
    }
   ],
   "source": [
    "def hammingdistance(Text1, Text2):\n",
    "    count = [1 for i in range(len(Text1)) if Text1[i] != Text2[i]]\n",
    "    return sum(count)\n",
    "\n",
    "t='GGGCCGTTGGT'\n",
    "p='GGACCGTTGAC'\n",
    "print (hammingdistance(t, p))"
   ]
  },
  {
   "cell_type": "markdown",
   "metadata": {},
   "source": [
    "Approximate Pattern Matching Problem: Find all approximate occurrences of a pattern in a string.  \n",
    "    Input: Strings Pattern and Text along with an integer d.  \n",
    "    Output: All starting positions where Pattern appears as a substring of Text with at most d mismatches.  "
   ]
  },
  {
   "cell_type": "code",
   "execution_count": 3,
   "metadata": {},
   "outputs": [
    {
     "name": "stdout",
     "output_type": "stream",
     "text": [
      "[6, 7, 26, 27]\n"
     ]
    }
   ],
   "source": [
    "def patternmatching(String, Pattern, d):\n",
    "    positions=[]\n",
    "    kmers=[]\n",
    "    for i in range(len(String)-len(Pattern)+1):\n",
    "        window=String[i:i+len(Pattern)]\n",
    "        if hammingdistance(window, Pattern)<=d:\n",
    "            positions.append(i)\n",
    "#     positions=\" \".join(str(item) for item in positions)\n",
    "    return positions\n",
    "\n",
    "pat='ATTCTGGA'\n",
    "stri='CGCCCGAATCCAGAACGCATTCCCATATTTCGGGACCACTGGCCTCCACGGTACGGACGTCAATCAAAT'\n",
    "d=3\n",
    "print (patternmatching(stri, pat, d))"
   ]
  },
  {
   "cell_type": "markdown",
   "metadata": {},
   "source": [
    "Implement ApproximatePatternCount.  \n",
    "    Input: Strings Pattern and Text as well as an integer d.  \n",
    "    Output: Countd(Text, Pattern).  "
   ]
  },
  {
   "cell_type": "code",
   "execution_count": 4,
   "metadata": {},
   "outputs": [
    {
     "name": "stdout",
     "output_type": "stream",
     "text": [
      "4\n"
     ]
    }
   ],
   "source": [
    "pat='GAGG'\n",
    "stri='TTTAGAGCCTTCAGAGG'\n",
    "d=2\n",
    "print (len(patternmatching(stri, pat, d)))"
   ]
  },
  {
   "cell_type": "markdown",
   "metadata": {},
   "source": [
    "Solve the Frequent Words with Mismatches Problem.  \n",
    "    Input: A string Text as well as integers k and d. (You may assume k ≤ 12 and d ≤ 3.)  \n",
    "    Output: All most frequent k-mers with up to d mismatches in Text.  "
   ]
  },
  {
   "cell_type": "code",
   "execution_count": 5,
   "metadata": {},
   "outputs": [
    {
     "name": "stdout",
     "output_type": "stream",
     "text": [
      "['ACTGTCT', 'AGACAGT']\n"
     ]
    }
   ],
   "source": [
    "from itertools import product\n",
    "\n",
    "def ReverseComp(Text):\n",
    "    complement=\"\"\n",
    "    for i in range(len(Text)):\n",
    "        if Text[i] == 'A':\n",
    "            a=\"T\"\n",
    "        elif Text[i] =='C':\n",
    "            a=\"G\"\n",
    "        elif Text[i] =='T':\n",
    "            a=\"A\"\n",
    "        elif Text[i] =='G':\n",
    "            a=\"C\"\n",
    "        complement=a+complement\n",
    "    return complement\n",
    "\n",
    "def FrequentWordsWithMismatches(Genome, k, d):\n",
    "    kmers = [Genome[i:i+k] for i in range(len(Genome)-k+1)]\n",
    "    bases = ['A', 'C', 'G', 'T']\n",
    "    bases_comb = [''.join(base) for base in product(bases, repeat = k)]\n",
    "    freq_words = {}\n",
    "\n",
    "    for pattern in bases_comb:\n",
    "        count1 = len(patternmatching(Genome, pattern, d))\n",
    "        #remove the following line if implementing without reverse complements\n",
    "        count2 = len(patternmatching(Genome, ReverseComp(pattern), d)) \n",
    "        count=count1+count2\n",
    "        if count not in freq_words:\n",
    "            freq_words[count] = [pattern]\n",
    "        else:\n",
    "            freq_words[count].append(pattern)\n",
    "        #print(freq_words)\n",
    "    return freq_words[max(freq_words)]\n",
    "\n",
    "stri='GGCGGTCCGGGGGCGGGACAGGGGGGGTCCGCTCGGTCACAACAACAACACTCTGTCGTCACAGTCGGGGCTCGGGGGCTCGCTCTCTCTCTCTACAGGCTCGCGACAGGCTGTCCTACAACACGGGCTGGCTCGCTCTCTGGGGACACGCGACAACACTCTGTCACACTGTCCGACAGTCGTCACAGGCGGTCGTCGTCACAGTCGTCACAGGACACGCTCGCTGTCGGCT'\n",
    "print (FrequentWordsWithMismatches(stri, 7, 2))"
   ]
  },
  {
   "cell_type": "markdown",
   "metadata": {},
   "source": [
    "Frequent Words with Mismatches and Reverse Complements Problem: Find the most frequent k-mers (with mismatches and reverse complements) in a string.  \n",
    "    Input: A DNA string Text as well as integers k and d.   \n",
    "    Output: All k-mers Pattern maximizing the sum Countd(Text, Pattern)+ Countd(Text, Patternrc) over all possible k-mers.  "
   ]
  }
 ],
 "metadata": {
  "kernelspec": {
   "display_name": "Python 3",
   "language": "python",
   "name": "python3"
  },
  "language_info": {
   "codemirror_mode": {
    "name": "ipython",
    "version": 3
   },
   "file_extension": ".py",
   "mimetype": "text/x-python",
   "name": "python",
   "nbconvert_exporter": "python",
   "pygments_lexer": "ipython3",
   "version": "3.8.5"
  }
 },
 "nbformat": 4,
 "nbformat_minor": 4
}
