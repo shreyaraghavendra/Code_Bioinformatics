{
 "cells": [
  {
   "cell_type": "markdown",
   "metadata": {},
   "source": [
    "1. Implement PatternCount.  \n",
    "     Input: Strings Text and Pattern.  \n",
    "     Output: Count(Text, Pattern).    "
   ]
  },
  {
   "cell_type": "code",
   "execution_count": 1,
   "metadata": {},
   "outputs": [
    {
     "name": "stdout",
     "output_type": "stream",
     "text": [
      "32\n"
     ]
    }
   ],
   "source": [
    "def patterncount(Text, Pattern):\n",
    "    count = [1 for i in range(len(Text)-len(Pattern)+1) if Text[i:i+len(Pattern)]==Pattern]\n",
    "    return sum(count)\n",
    "\n",
    "text='GTTCAATCACAAAATCACATCACGAATCACAGTATAACAGACGAGAATCACAAATCACAACAATCACACATAAATCACAAACGTAAAATCACATCTTAAAATCACAGCCAATCACATAAATCACATAATCACACCAATCACATAAATCACAGAATCACATACTATTAATCACAAATCACACCGAATCACAAATCACAGGTATAATCACATGCAATCACATGATGTACAATCACAAAAATCACATTTGATAATCACAAAATCACAGCCAATCACAGGCGCGTTAGGCTAAATCACAGAATCACACAATCACAAATCACAACTGGGTTGGAATCACAAATCACAAGAAACGAATCACAAGTAATAATCACAAATCACACGAACGTGTAGTTCCACGGCAATCACAAATCACAGAAGTTAAATTTTGAATCACAACAATCACAAATCACACGCGAATCACACCGATCAATCACAAATCACAGCGCCAATCACAAATCACAAATCACATCAATCACAAATCACAAAATCACACTCTAGCCGGCCCGAATCACAAAATCACACTATCCAAATCACAAATCACAAATCACACCGCTTCAATCACAAAATCACATAATCACACAAATCACAACCGAATCACAGAATCACATCAATCACATAAAATCACACTAATCACATCAATCACAAATCACAAATCACAAATCACAAAATCACAAATCACACTCTAATCACATAATCACAACAACGAATCACAAGAATCACAGACATCAATCACACCCTACACTTATACAAATCACATGGAATCACAGTTAATCACAGTAAATCACAGACATAATCACATAATCACATAAAGATAAATCACACGAATCACACGGTAATCACAAATCACAATTTAATCACAAATCACAGCTCCAATCACAAATCACAAATCACAGAGCCTAATGTAACTCTAATCACATATACAATCACAGGCAATCACACCAATCACAACGAAATCACAGGCCAATCACAAATCACAAATCACAGAATCACAAGATAG'\n",
    "pattern='AATCACAAA'\n",
    "print (patterncount(text, pattern))"
   ]
  },
  {
   "cell_type": "markdown",
   "metadata": {},
   "source": [
    "2. Solve the Frequent Words Problem.  \n",
    "    Input: A string Text and an integer k.  \n",
    "    Output: All most frequent k-mers in Text.  "
   ]
  },
  {
   "cell_type": "code",
   "execution_count": 2,
   "metadata": {},
   "outputs": [
    {
     "name": "stdout",
     "output_type": "stream",
     "text": [
      "{'GTCCGCTATATG': 8, 'TCCGCTATATGA': 8, 'CCGCTATATGAC': 8}\n"
     ]
    }
   ],
   "source": [
    "def FrequentWords(Text, k):\n",
    "    freqMap={}\n",
    "    for i in range(len(Text)-k+1):\n",
    "        key=Text[i:i+k]\n",
    "        if key in freqMap.keys():\n",
    "            freqMap[key]+=1\n",
    "        else:\n",
    "            freqMap[key]=1\n",
    "    freqwords= {k:v for k,v in freqMap.items() if v == max(freqMap.values())}\n",
    "    return freqwords\n",
    "\n",
    "text='ACAAAGTGCGATTCACCAATATGACAGTATCCTGTCCGCTGATTCACCAATATGACGTCCGCTAGTATCCTGTCCGCTATATGACGATTCACCAATATGACGATTCACCAGTCCGCTATATGACATATGACAGTATCCTACAAAGTGCACAAAGTGCATATGACACAAAGTGCACAAAGTGCATATGACACAAAGTGCACAAAGTGCGATTCACCAAGTATCCTGATTCACCAACAAAGTGCACAAAGTGCGTCCGCTATATGACACAAAGTGCACAAAGTGCGTCCGCTATATGACATATGACAGTATCCTGATTCACCAAGTATCCTACAAAGTGCGTCCGCTATATGACGTCCGCTATATGACAGTATCCTACAAAGTGCAGTATCCTGATTCACCAGATTCACCAACAAAGTGCACAAAGTGCGATTCACCAACAAAGTGCGTCCGCTAGTATCCTATATGACATATGACGATTCACCAGTCCGCTATATGACACAAAGTGCATATGACACAAAGTGCAGTATCCTACAAAGTGCAGTATCCTGTCCGCTAGTATCCTAGTATCCTGTCCGCTACAAAGTGCATATGACGATTCACCAGTCCGCTACAAAGTGCACAAAGTGCATATGACGTCCGCTACAAAGTGCGATTCACCAACAAAGTGCGTCCGCTGATTCACCAATATGACATATGACAGTATCCTATATGACATATGACGTCCGCTATATGACACAAAGTGCATATGACAGTATCCTAGTATCCTAGTATCCTACAAAGTGCGTCCGCTAGTATCCTATATGACGATTCACCAGATTCACCAAGTATCCTACAAAGTGCGTCCGCTACAAAGTGC'\n",
    "k=12\n",
    "print (FrequentWords(text, k))"
   ]
  },
  {
   "cell_type": "markdown",
   "metadata": {},
   "source": [
    "3. Find the reverse complement of a DNA string.    \n",
    "    Input: A DNA string Pattern.  \n",
    "    Output: Patternrc , the reverse complement of Pattern.  "
   ]
  },
  {
   "cell_type": "code",
   "execution_count": 3,
   "metadata": {},
   "outputs": [
    {
     "name": "stdout",
     "output_type": "stream",
     "text": [
      "ACCGGGTTTT\n"
     ]
    }
   ],
   "source": [
    "def ReverseComp(Text):\n",
    "    complement=\"\"\n",
    "    for i in range(len(Text)):\n",
    "        if Text[i] == 'A':\n",
    "            a=\"T\"\n",
    "        elif Text[i] =='C':\n",
    "            a=\"G\"\n",
    "        elif Text[i] =='T':\n",
    "            a=\"A\"\n",
    "        elif Text[i] =='G':\n",
    "            a=\"C\"\n",
    "        complement=a+complement\n",
    "    return complement\n",
    "\n",
    "text='AAAACCCGGT'\n",
    "print (ReverseComp(text))"
   ]
  },
  {
   "cell_type": "markdown",
   "metadata": {},
   "source": [
    "4. Solve the Pattern Matching Problem.  \n",
    "    Input: Two strings- Pattern and Genome.  \n",
    "    Output: A collection of space-separated integers specifying all starting positions where Pattern appears as a substring of Genome."
   ]
  },
  {
   "cell_type": "code",
   "execution_count": 4,
   "metadata": {},
   "outputs": [
    {
     "name": "stdout",
     "output_type": "stream",
     "text": [
      "46 71\n"
     ]
    }
   ],
   "source": [
    "def patternlocate(Text, Pattern):\n",
    "    count = [i for i in range(len(Text)-len(Pattern)+1) if Text[i:i+len(Pattern)]==Pattern]\n",
    "    count=\" \".join(str(item) for item in count)\n",
    "    return count\n",
    "\n",
    "text='TGTCGCATCCTGTCGCAATGTCGCAGCGTGTCGCACACTGTTGAGTTGTCGCATGTGTCGCACAGCACACTTGTCGCATGTCGCATTTGTCGCATATG'\n",
    "pattern='TGTCGCATG'\n",
    "print (patternlocate(text, pattern))"
   ]
  },
  {
   "cell_type": "markdown",
   "metadata": {},
   "source": [
    "5. Clump Finding Problem: Find patterns forming clumps in a string.  \n",
    "    Input: A string Genome, and integers k, L, and t.  \n",
    "    Output: All distinct k-mers forming (L, t)-clumps in Genome.  "
   ]
  },
  {
   "cell_type": "code",
   "execution_count": 5,
   "metadata": {},
   "outputs": [
    {
     "name": "stdout",
     "output_type": "stream",
     "text": [
      "['GAAGA', 'CGACA']\n"
     ]
    }
   ],
   "source": [
    "def FindClumps(Text, k, L, t):\n",
    "    patterns=[]\n",
    "    for i in range(len(Text)-L+1):\n",
    "        window=Text[i:i+L]\n",
    "        freqTable= FrequentWords(window, k)\n",
    "        clumps= [k for k,v in freqTable.items() if v >= t]\n",
    "        #print(clumps)\n",
    "        patterns.extend(clumps)\n",
    "    #remove duplicates \n",
    "    patterns = list(set(patterns))\n",
    "    return patterns\n",
    "\n",
    "text='CGGACTCGACAGATGTGAAGAACGACAATGTGAAGACTCGACACGACAGAGTGAAGAGAAGAGGAAACATTGTAA'\n",
    "# import requests\n",
    "# response = requests.get('https://bioinformaticsalgorithms.com/data/realdatasets/Rearrangements/E_coli.txt')\n",
    "# text = response.text\n",
    "print (FindClumps(text, 5, 50, 4))"
   ]
  }
 ],
 "metadata": {
  "kernelspec": {
   "display_name": "Python 3",
   "language": "python",
   "name": "python3"
  },
  "language_info": {
   "codemirror_mode": {
    "name": "ipython",
    "version": 3
   },
   "file_extension": ".py",
   "mimetype": "text/x-python",
   "name": "python",
   "nbconvert_exporter": "python",
   "pygments_lexer": "ipython3",
   "version": "3.8.5"
  }
 },
 "nbformat": 4,
 "nbformat_minor": 4
}
